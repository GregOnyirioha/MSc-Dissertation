{
 "cells": [
  {
   "cell_type": "code",
   "execution_count": null,
   "id": "0fb071a1",
   "metadata": {},
   "outputs": [],
   "source": [
    "import pandas as pd\n",
    "import numpy as np\n",
    "from sklearn.cluster import KMeans\n",
    "from sklearn.preprocessing import MinMaxScaler\n",
    "from matplotlib import pyplot as plt\n",
    "from sklearn.metrics import r2_score"
   ]
  },
  {
   "cell_type": "code",
   "execution_count": null,
   "id": "76819a6b",
   "metadata": {},
   "outputs": [],
   "source": [
    "# Reading Data from Several Data Sources\n",
    "df1= pd.read_csv('C:/Users/grego/Desktop/Data Science and Analytics MSc/MATH5872M Dissertation in Data Science and Analytics/Telecommunication/csv files of dataset/Data traffic across UK.csv')\n",
    "df2= pd.read_csv('C:/Users/grego/Desktop/Data Science and Analytics MSc/MATH5872M Dissertation in Data Science and Analytics/Telecommunication/csv files of dataset/2021 Median weekly pay.csv')\n",
    "df3= pd.read_csv('C:/Users/grego/Desktop/Data Science and Analytics MSc/MATH5872M Dissertation in Data Science and Analytics/Telecommunication/csv files of dataset/ethnic minorities.csv')\n",
    "df4= pd.read_csv('C:/Users/grego/Desktop/Data Science and Analytics MSc/MATH5872M Dissertation in Data Science and Analytics/Telecommunication/csv files of dataset/GDP per head UK local authorities.csv')\n",
    "df5= pd.read_csv('C:/Users/grego/Desktop/Data Science and Analytics MSc/MATH5872M Dissertation in Data Science and Analytics/Telecommunication/csv files of dataset/Land Area of UK Local Authorities.csv')\n",
    "df6= pd.read_csv('C:/Users/grego/Desktop/Data Science and Analytics MSc/MATH5872M Dissertation in Data Science and Analytics/Telecommunication/csv files of dataset/Population2.csv')\n",
    "df7=pd.read_csv('C:/Users/grego/Desktop/Data Science and Analytics MSc/MATH5872M Dissertation in Data Science and Analytics/Telecommunication/csv files of dataset/median age and people per square km.csv')\n",
    "df8= pd.read_csv('C:/Users/grego/Desktop/Data Science and Analytics MSc/MATH5872M Dissertation in Data Science and Analytics/Telecommunication/csv files of dataset/deprivation.csv')"
   ]
  },
  {
   "cell_type": "code",
   "execution_count": null,
   "id": "c86519a9",
   "metadata": {},
   "outputs": [],
   "source": [
    "df7"
   ]
  },
  {
   "cell_type": "code",
   "execution_count": null,
   "id": "36f496bb",
   "metadata": {},
   "outputs": [],
   "source": [
    "df8"
   ]
  },
  {
   "cell_type": "code",
   "execution_count": null,
   "id": "f491fbd1",
   "metadata": {},
   "outputs": [],
   "source": [
    "from functools import reduce"
   ]
  },
  {
   "cell_type": "code",
   "execution_count": null,
   "id": "c50aec13",
   "metadata": {},
   "outputs": [],
   "source": [
    "# Merge  pandas DataFrames\n",
    "data_merge1 = reduce(lambda left, right:   \n",
    "                     pd.merge(left , right,\n",
    "                              on = [\"Local Authority\"]),\n",
    "                     [df1, df3, df4, df5, df6, df7, df8])\n",
    "data_merge1= data_merge1.set_index('Local Authority') \n",
    "data_merge1=data_merge1.reindex(columns=['Total Population','Land Area: Kilometers Square','Population Density (People per sq. km)', 'GDP per Capita',\n",
    "\n",
    "                                         'Percentage of Ethnic Minorities', 'Median Age', 'IMD Deprivation Score', '4G Data Traffic (TB)', 'Data Traffic (TB)'])\n",
    "data_merge1# Print merged DataFrame"
   ]
  },
  {
   "cell_type": "code",
   "execution_count": null,
   "id": "7c6f3077",
   "metadata": {},
   "outputs": [],
   "source": [
    "data_merge1.to_csv('complete dataset.csv')"
   ]
  },
  {
   "cell_type": "code",
   "execution_count": null,
   "id": "a7f06f90",
   "metadata": {
    "scrolled": true
   },
   "outputs": [],
   "source": [
    "corr_matrix=data_merge1.corr() # Get correlation matrix \n",
    "corr_matrix\n",
    "corr_matrix[\"Data Traffic (TB)\"].sort_values(ascending=False) # sort in descending order to show strength of correlation \n",
    "abscorr_matrix=pd.DataFrame(abs(corr_matrix[\"Data Traffic (TB)\"])) # Get strength of both positive and negative correlations\n",
    "print(corr_matrix[\"Data Traffic (TB)\"].sort_values(ascending=False)[2:9])# computed correlations of features to targets"
   ]
  },
  {
   "cell_type": "code",
   "execution_count": null,
   "id": "a5a0f0e9",
   "metadata": {},
   "outputs": [],
   "source": [
    "from pandas.plotting import scatter_matrix\n",
    "attributes=[\"Data Traffic (TB)\", \"Total Population\", \"Population Density (People per sq. km)\",\"IMD Deprivation Score\"]\n",
    "scatter_matrix(data_merge1[attributes],figsize=(20,14)) # Scatter matrix of  correlations "
   ]
  },
  {
   "cell_type": "code",
   "execution_count": null,
   "id": "4c696fab",
   "metadata": {},
   "outputs": [],
   "source": [
    "from pandas.plotting import scatter_matrix\n",
    "from pandas.plotting import scatter_matrix\n",
    "attributes2=[\"Data Traffic (TB)\", \"GDP per Capita\", \"Land Area: Kilometers Square\", \"Median Age\"]\n",
    "scatter_matrix(data_merge1[attributes2],figsize=(20,14)) # Scatter matrix of  correlations  "
   ]
  },
  {
   "cell_type": "code",
   "execution_count": null,
   "id": "8121d11f",
   "metadata": {},
   "outputs": [],
   "source": [
    "%matplotlib inline\n",
    "import matplotlib.pyplot as plt\n",
    "\n",
    "data_merge1.hist(bins=50,figsize=(25,20)) # Histogram of features/predictors"
   ]
  },
  {
   "cell_type": "code",
   "execution_count": null,
   "id": "3ff73485",
   "metadata": {},
   "outputs": [],
   "source": [
    "features= data_merge1.drop(columns=[ 'Data Traffic (TB)', '4G Data Traffic (TB)'])"
   ]
  },
  {
   "cell_type": "code",
   "execution_count": null,
   "id": "e3c2ecf4",
   "metadata": {},
   "outputs": [],
   "source": [
    "features"
   ]
  },
  {
   "cell_type": "code",
   "execution_count": null,
   "id": "2ce7c7f7",
   "metadata": {},
   "outputs": [],
   "source": [
    "features.hist(bins=50,figsize=(25,20)) # Histogram of features/predictors"
   ]
  },
  {
   "cell_type": "code",
   "execution_count": null,
   "id": "8152999c",
   "metadata": {},
   "outputs": [],
   "source": [
    "targets= data_merge1[['Data Traffic (TB)']]"
   ]
  },
  {
   "cell_type": "code",
   "execution_count": null,
   "id": "9c66ad67",
   "metadata": {},
   "outputs": [],
   "source": [
    "targets"
   ]
  },
  {
   "cell_type": "markdown",
   "id": "23a90fc2",
   "metadata": {},
   "source": [
    "# Splitting Data into Train and Test"
   ]
  },
  {
   "cell_type": "code",
   "execution_count": null,
   "id": "968dbd3c",
   "metadata": {},
   "outputs": [],
   "source": [
    "from sklearn.model_selection import train_test_split\n",
    "\n",
    "train_features, test_features = train_test_split(features, test_size= 0.3, random_state=50)\n",
    "print(len(train_features))\n",
    "print(len(test_features))"
   ]
  },
  {
   "cell_type": "code",
   "execution_count": null,
   "id": "d6033622",
   "metadata": {},
   "outputs": [],
   "source": [
    "train_targets, test_targets = train_test_split(targets, test_size= 0.3, random_state=50)\n",
    "print(len(train_targets))\n",
    "print(len(test_targets))"
   ]
  },
  {
   "cell_type": "code",
   "execution_count": null,
   "id": "0ee1d2c2",
   "metadata": {},
   "outputs": [],
   "source": [
    "train_features"
   ]
  },
  {
   "cell_type": "code",
   "execution_count": null,
   "id": "7fe26dd9",
   "metadata": {},
   "outputs": [],
   "source": [
    "train_targets"
   ]
  },
  {
   "cell_type": "code",
   "execution_count": null,
   "id": "c5ddedc1",
   "metadata": {},
   "outputs": [],
   "source": [
    "from sklearn.pipeline import Pipeline\n",
    "from sklearn.preprocessing import StandardScaler\n",
    "\n",
    "\n",
    "pipeline = Pipeline([\n",
    "   ('std_scaler',StandardScaler())])\n",
    "\n",
    "cleantraining=pipeline.fit_transform(train_features)\n",
    "\n",
    "print(cleantraining.shape)"
   ]
  },
  {
   "cell_type": "code",
   "execution_count": null,
   "id": "4c87054a",
   "metadata": {},
   "outputs": [],
   "source": [
    "newclean=pd.DataFrame(cleantraining)"
   ]
  },
  {
   "cell_type": "code",
   "execution_count": null,
   "id": "7e1f62ef",
   "metadata": {},
   "outputs": [],
   "source": [
    "data_merge1.to_csv('complete dataset.csv')"
   ]
  },
  {
   "cell_type": "code",
   "execution_count": null,
   "id": "143123fb",
   "metadata": {},
   "outputs": [],
   "source": [
    "EDAOS=newclean.describe()\n",
    "EDAOS"
   ]
  },
  {
   "cell_type": "code",
   "execution_count": null,
   "id": "78668dd6",
   "metadata": {},
   "outputs": [],
   "source": [
    "#EDAOS.to_csv('standatdized EDA.csv')"
   ]
  },
  {
   "cell_type": "markdown",
   "id": "1ed5ec32",
   "metadata": {},
   "source": [
    "# Training OLS Regression Model"
   ]
  },
  {
   "cell_type": "code",
   "execution_count": null,
   "id": "8cc92123",
   "metadata": {},
   "outputs": [],
   "source": [
    "from sklearn.linear_model import LinearRegression\n",
    "from sklearn.model_selection import cross_val_score\n",
    "from sklearn.metrics import mean_squared_error\n",
    "lin_regressor=LinearRegression()\n",
    "\n",
    "olsmse = cross_val_score(lin_regressor,cleantraining, train_targets, scoring='neg_mean_squared_error', cv=10)   \n",
    "olsrmse_scores = np.sqrt(-olsmse)\n",
    "def display_scores(scores):\n",
    "    #print('Scores:',scores)\n",
    "    print('Mean rmse:',scores.mean())\n",
    "    #print('Standard deviation:',scores.std())\n",
    "print('OLS regression model score:')\n",
    "display_scores(olsrmse_scores)"
   ]
  },
  {
   "cell_type": "code",
   "execution_count": null,
   "id": "98fb93c2",
   "metadata": {},
   "outputs": [],
   "source": [
    "lin_regressor.fit(cleantraining, train_targets)\n",
    "some_data = train_features.iloc[:5]\n",
    "some_labels= train_targets.iloc[:5]\n",
    "some_data_prepared = pipeline.transform(some_data)\n",
    "print(\"Predictions:\",lin_regressor.predict(some_data_prepared))\n",
    "print(\"Labels: \",some_labels)"
   ]
  },
  {
   "cell_type": "markdown",
   "id": "ed713d46",
   "metadata": {},
   "source": [
    "# Testing Linear Regression Model on Test Data"
   ]
  },
  {
   "cell_type": "code",
   "execution_count": null,
   "id": "15c0c67f",
   "metadata": {
    "scrolled": true
   },
   "outputs": [],
   "source": [
    "final_model=lin_regressor\n",
    "final_model.fit(cleantraining, train_targets)\n",
    "test_prepared = pipeline.fit_transform(test_features)\n",
    "final_predictions=final_model.predict(test_prepared)\n",
    "final_mse = mean_squared_error(test_targets,final_predictions)\n",
    "final_rsme = np.sqrt(final_mse)\n",
    "print('Root mean squared error for test data is:', final_rsme)\n",
    "print(\"R2 Score is:\", r2_score(test_targets, final_predictions))\n",
    "R2_Score= r2_score(test_targets, final_predictions)\n",
    "print('Linear Regression Model has an accuracy of', R2_Score*100,'%', 'based on R2 Score')\n"
   ]
  },
  {
   "cell_type": "code",
   "execution_count": null,
   "id": "033ab41b",
   "metadata": {},
   "outputs": [],
   "source": [
    "final_predictions=final_predictions.tolist() # Convert array to list"
   ]
  },
  {
   "cell_type": "code",
   "execution_count": null,
   "id": "c959c291",
   "metadata": {},
   "outputs": [],
   "source": [
    "plt.figure(figsize=(10,5))\n",
    "plt.scatter(test_targets, final_predictions)\n",
    "plt.xlabel('Actual Mobile Data Traffic (TB)', fontsize=14)\n",
    "plt.ylabel('Predicted Mobile Data Traffic (TB)', fontsize=14)\n",
    "plt.title('Predicted vs Actual (Test Data)')"
   ]
  },
  {
   "cell_type": "markdown",
   "id": "59c6ff90",
   "metadata": {},
   "source": [
    "# Feature Importance OLS Regression"
   ]
  },
  {
   "cell_type": "code",
   "execution_count": null,
   "id": "4ce02f02",
   "metadata": {},
   "outputs": [],
   "source": [
    "coefficients = lin_regressor.coef_\n",
    "coefficients=coefficients.tolist() # Convert array to list\n",
    "coefficients=sum(coefficients, []) # Flatten list of list to just a list"
   ]
  },
  {
   "cell_type": "code",
   "execution_count": null,
   "id": "e8430190",
   "metadata": {},
   "outputs": [],
   "source": [
    "feature_importances=np.abs(coefficients) # Absolute values of coefficients\n",
    "num_attribs=list(train_features)\n",
    "feature_importances\n"
   ]
  },
  {
   "cell_type": "code",
   "execution_count": null,
   "id": "6ce18b77",
   "metadata": {},
   "outputs": [],
   "source": [
    "Rank_of_features=sorted(zip(feature_importances, num_attribs), reverse= True)[:7] # Rank most important features\n",
    "ranking=Rank_of_features[0][0], Rank_of_features[1][0], Rank_of_features[2][0], Rank_of_features[3][0],Rank_of_features[4][0], Rank_of_features[5][0], Rank_of_features[6][0]\n",
    "ranking_list=list(ranking)\n",
    "ranking_list\n",
    "ranked_features=Rank_of_features[0][1],Rank_of_features[1][1],Rank_of_features[2][1],Rank_of_features[3][1],Rank_of_features[4][1],Rank_of_features[5][1],Rank_of_features[6][1]\n",
    "ranked_features_list=list(ranked_features)\n",
    "ranked_features_list\n",
    "shortened_ranked_features_list= ['Total Population', 'Population Density', 'GDP per Capita', '% of Ethnic Minorities', 'Land Area', 'Deprivation Score', 'Median Age']\n",
    "shortened_ranked_features_list"
   ]
  },
  {
   "cell_type": "code",
   "execution_count": null,
   "id": "ddd4c8bc",
   "metadata": {},
   "outputs": [],
   "source": [
    "fig = plt.figure(figsize = (13, 6))\n",
    "def addlabels(x,y):\n",
    "     for i in range(len(x)):\n",
    "             plt.text(round(i),round(y[i]),round(y[i]), ha='center',bbox=dict(facecolor='orange'))\n",
    "# creating the bar plot\n",
    "plt.bar(shortened_ranked_features_list, ranking_list, \n",
    "        width = 0.4, align='center')\n",
    "addlabels(shortened_ranked_features_list, ranking_list)\n",
    " \n",
    "plt.xlabel(\"Features\", fontsize=20)\n",
    "plt.ylabel(\"Magnitude of Importance\", fontsize=20)\n",
    "plt.title(\"Linear Regression Feature Importance Ranking\", fontsize=20)\n",
    "plt.show()"
   ]
  },
  {
   "cell_type": "code",
   "execution_count": null,
   "id": "14828dd1",
   "metadata": {},
   "outputs": [],
   "source": [
    "final_predictions=sum(final_predictions, []) # Flatten list of list to just a single list"
   ]
  },
  {
   "cell_type": "code",
   "execution_count": null,
   "id": "117f4957",
   "metadata": {},
   "outputs": [],
   "source": [
    "# Getting all models predicted targets for test set\n",
    "pred_targets_df=pd.DataFrame({'Actual Targets':test_targets['Data Traffic (TB)'], 'Model Predicted Targets':final_predictions, \n",
    "                              '% Difference': abs((test_targets['Data Traffic (TB)']-final_predictions)/(test_targets['Data Traffic (TB)'])*100)})\n",
    "sample_pred_targets=pred_targets_df[7:13]\n",
    "sample_pred_targets1=pred_targets_df[1:7]\n",
    "sample_pred_targets2=pred_targets_df[13:19]\n",
    "sample_pred_targets3=pred_targets_df[19:25]\n",
    "sample_pred_targets4=pred_targets_df[25:31]\n",
    "sample_pred_targets5=pred_targets_df[31:37]\n",
    "sample_pred_targets6=pred_targets_df[37:43]\n",
    "sample_pred_targets7=pred_targets_df[43:49]\n",
    "sample_pred_targets8=pred_targets_df[49:55]\n",
    "sample_pred_targets9=pred_targets_df[55:63]\n",
    "\n",
    "pred_targets_df"
   ]
  },
  {
   "cell_type": "markdown",
   "id": "01a06bbc",
   "metadata": {},
   "source": [
    "# Showing Performance of the model agaisnt Actual Values"
   ]
  },
  {
   "cell_type": "code",
   "execution_count": null,
   "id": "17b13f30",
   "metadata": {},
   "outputs": [],
   "source": [
    "# Actual and predicted first set\n",
    "plt.rcParams[\"figure.figsize\"]=(8,5.5)\n",
    "sample_pred_targets[['Actual Targets', 'Model Predicted Targets']].plot(marker='o')\n",
    "plt.title('Monthly Mobile Data Traffic vs Local Authority', fontsize=16)\n",
    "plt.xlabel('Local Authority', fontsize=16)\n",
    "plt.ylabel('Monthly Mobile Data Traffic (TB)', fontsize=16)\n",
    "plt.grid(True)\n",
    "plt.show()"
   ]
  },
  {
   "cell_type": "code",
   "execution_count": null,
   "id": "355e8e9d",
   "metadata": {},
   "outputs": [],
   "source": [
    "# Actual and predicted second set\n",
    "plt.rcParams[\"figure.figsize\"]=(8,5.5)\n",
    "sample_pred_targets1[['Actual Targets', 'Model Predicted Targets']].plot(marker='o')\n",
    "plt.title('Monthly Mobile Data Traffic vs Local Authority', fontsize=16)\n",
    "plt.xlabel('Local Authority', fontsize=16)\n",
    "plt.ylabel('Monthly Mobile Data Traffic (TB)', fontsize=16)\n",
    "plt.grid(True)\n",
    "plt.show()"
   ]
  },
  {
   "cell_type": "code",
   "execution_count": null,
   "id": "dce0f12f",
   "metadata": {},
   "outputs": [],
   "source": [
    "# Actual and predicted third set\n",
    "plt.rcParams[\"figure.figsize\"]=(8,5.5)\n",
    "sample_pred_targets2[['Actual Targets', 'Model Predicted Targets']].plot(marker='o')\n",
    "plt.title('Monthly Mobile Data Traffic vs Local Authority', fontsize=16)\n",
    "plt.xlabel('Local Authority', fontsize=16)\n",
    "plt.ylabel('Monthly Mobile Data Traffic (TB)', fontsize=16)\n",
    "plt.grid(True)\n",
    "plt.show()"
   ]
  },
  {
   "cell_type": "code",
   "execution_count": null,
   "id": "9bbc1450",
   "metadata": {},
   "outputs": [],
   "source": [
    "# Actual and predicted fourth set\n",
    "plt.rcParams[\"figure.figsize\"]=(8,5.5)\n",
    "sample_pred_targets3[['Actual Targets', 'Model Predicted Targets']].plot(marker='o')\n",
    "plt.title('Monthly Mobile Data Traffic vs Local Authority', fontsize=16)\n",
    "plt.xlabel('Local Authority', fontsize=16)\n",
    "plt.ylabel('Monthly Mobile Data Traffic (TB)', fontsize=16)\n",
    "plt.grid(True)\n",
    "plt.show()"
   ]
  },
  {
   "cell_type": "code",
   "execution_count": null,
   "id": "26c50ff9",
   "metadata": {},
   "outputs": [],
   "source": [
    "# Actual and predicted fifth set\n",
    "plt.rcParams[\"figure.figsize\"]=(8,5.5)\n",
    "sample_pred_targets4[['Actual Targets', 'Model Predicted Targets']].plot(marker='o')\n",
    "plt.title('Monthly Mobile Data Traffic vs Local Authority', fontsize=16)\n",
    "plt.xlabel('Local Authority', fontsize=16)\n",
    "plt.ylabel('Monthly Mobile Data Traffic (TB)', fontsize=16)\n",
    "plt.grid(True)\n",
    "plt.show()"
   ]
  },
  {
   "cell_type": "code",
   "execution_count": null,
   "id": "d5bf0ba8",
   "metadata": {},
   "outputs": [],
   "source": [
    "# Actual and predicted sixth set\n",
    "plt.rcParams[\"figure.figsize\"]=(8,5.5)\n",
    "sample_pred_targets5[['Actual Targets', 'Model Predicted Targets']].plot(marker='o')\n",
    "plt.title('Monthly Mobile Data Traffic vs Local Authority', fontsize=16)\n",
    "plt.xlabel('Local Authority', fontsize=16)\n",
    "plt.ylabel('Monthly Mobile Data Traffic (TB)', fontsize=16)\n",
    "plt.grid(True)\n",
    "plt.show()"
   ]
  },
  {
   "cell_type": "markdown",
   "id": "d8e6cf81",
   "metadata": {},
   "source": [
    "# Training Random Forest\n"
   ]
  },
  {
   "cell_type": "code",
   "execution_count": null,
   "id": "2209711a",
   "metadata": {},
   "outputs": [],
   "source": [
    "from sklearn.ensemble import RandomForestRegressor\n",
    "from sklearn.model_selection import GridSearchCV\n",
    "# Using Grid Search to determine the best random forest model\n",
    "param_grid  = [{'n_estimators': [10, 25, 40, 55, 70, 85, 100,115,130, 145, 160, 175],'max_features':[1,2,3,4,5,6,7]}, \n",
    "               {'bootstrap': [False],'n_estimators':[10, 25, 40, 55, 70, 85, 100, 115, 130, 145, 160, 175],'max_features':[1,2,3,4,5,6,7]}]\n",
    "\n",
    "forest_reg=RandomForestRegressor(random_state=3)\n",
    "\n",
    "grid_search = GridSearchCV(forest_reg, param_grid, cv=5,scoring='neg_mean_squared_error')\n",
    "grid_search.fit(cleantraining, train_targets.squeeze())"
   ]
  },
  {
   "cell_type": "code",
   "execution_count": null,
   "id": "e48e1ad8",
   "metadata": {},
   "outputs": [],
   "source": [
    "# Retrieving best parameters from GridSearchCV\n",
    "grid_search.best_params_"
   ]
  },
  {
   "cell_type": "code",
   "execution_count": null,
   "id": "fea630fe",
   "metadata": {},
   "outputs": [],
   "source": [
    "# Displaying best estimator\n",
    "grid_search.best_estimator_"
   ]
  },
  {
   "cell_type": "code",
   "execution_count": null,
   "id": "0870bbf0",
   "metadata": {},
   "outputs": [],
   "source": [
    "# re-train random forest with best parameters gotten from grid search\n",
    "bestforest_reg=grid_search.best_estimator_"
   ]
  },
  {
   "cell_type": "code",
   "execution_count": null,
   "id": "8f5257cc",
   "metadata": {},
   "outputs": [],
   "source": [
    "# Use cross validation to get rmse values for random forest model\n",
    "forestscores=cross_val_score(bestforest_reg, cleantraining, train_targets.squeeze(),scoring=\"neg_mean_squared_error\",cv=10)\n",
    "forest_rmse_scores=np.sqrt(-forestscores)\n",
    "print('Random Forest rmse scores:')\n",
    "display_scores(forest_rmse_scores)\n"
   ]
  },
  {
   "cell_type": "markdown",
   "id": "d2ce4002",
   "metadata": {},
   "source": [
    "# Testing Random Forest Model on Test Data"
   ]
  },
  {
   "cell_type": "code",
   "execution_count": null,
   "id": "3d54316d",
   "metadata": {},
   "outputs": [],
   "source": [
    "randomforest_reg=grid_search.best_estimator_\n",
    "randomforest_reg.fit(cleantraining, train_targets.squeeze())\n",
    "rftest_prepared = pipeline.fit_transform(test_features)\n",
    "rffinal_predictions=randomforest_reg.predict(test_prepared)\n",
    "randomforest_mse = mean_squared_error(test_targets,rffinal_predictions)\n",
    "randomforest_rsme = np.sqrt(randomforest_mse)\n",
    "print('Random Forest root mean squared error for test data is:', randomforest_rsme)\n",
    "print(\"R2 Score is:\", r2_score(test_targets, rffinal_predictions))\n",
    "R2_Scorerf= r2_score(test_targets, rffinal_predictions)\n",
    "print('Random Forest Regression Model has an accuracy of', R2_Scorerf*100,'%', 'based on R2 Score')"
   ]
  },
  {
   "cell_type": "code",
   "execution_count": null,
   "id": "7e6e8a39",
   "metadata": {},
   "outputs": [],
   "source": [
    "rffinal_predictions=rffinal_predictions.tolist() # Convert array to list"
   ]
  },
  {
   "cell_type": "code",
   "execution_count": null,
   "id": "6a2b2a6e",
   "metadata": {},
   "outputs": [],
   "source": [
    "# Plotting model prediction vs actual \n",
    "plt.figure(figsize=(10,5))\n",
    "plt.scatter(test_targets, rffinal_predictions)\n",
    "plt.xlabel('Actual Data Traffic (TB)', fontsize=14)\n",
    "plt.ylabel('Predicted Data Traffic (TB)', fontsize=14)\n",
    "plt.title('Predicted vs Actual (Test Data)')"
   ]
  },
  {
   "cell_type": "markdown",
   "id": "1284d1f4",
   "metadata": {},
   "source": [
    "# Getting Feature Importance for Random Forest"
   ]
  },
  {
   "cell_type": "code",
   "execution_count": null,
   "id": "956f6518",
   "metadata": {},
   "outputs": [],
   "source": [
    "rffeature_importances = grid_search.best_estimator_.feature_importances_\n",
    "rffeature_importances"
   ]
  },
  {
   "cell_type": "code",
   "execution_count": null,
   "id": "40b1f44e",
   "metadata": {},
   "outputs": [],
   "source": [
    "rfRank_of_features=sorted(zip(rffeature_importances,num_attribs),reverse=True)[:8]\n",
    "rfRank_of_features"
   ]
  },
  {
   "cell_type": "code",
   "execution_count": null,
   "id": "295dea8d",
   "metadata": {
    "scrolled": true
   },
   "outputs": [],
   "source": [
    "rfranking=rfRank_of_features[0][0], rfRank_of_features[1][0], rfRank_of_features[2][0], rfRank_of_features[3][0],rfRank_of_features[4][0], rfRank_of_features[5][0], rfRank_of_features[6][0]\n",
    "rfranking_list=list(rfranking)\n",
    "rfranking_list\n",
    "rfshortened_ranked_features_list= ['Total Population', '% of Ethnic Minorities', 'Population Density', 'Deprivation Score', 'Median Age', 'Land Area',  'GDP per Capita']\n",
    "rfshortened_ranked_features_list"
   ]
  },
  {
   "cell_type": "code",
   "execution_count": null,
   "id": "c4c140bd",
   "metadata": {
    "scrolled": false
   },
   "outputs": [],
   "source": [
    "fig = plt.figure(figsize = (14, 7))\n",
    "def addlabels(x,y):\n",
    "     for i in range(len(x)):\n",
    "             plt.text(round(i,2),round(y[i],2),round(y[i],2), ha='center',bbox=dict(facecolor='orange'))\n",
    "# creating the bar plot\n",
    "plt.bar(rfshortened_ranked_features_list, rfranking_list, \n",
    "        width = 0.4, align='center')\n",
    "addlabels(rfshortened_ranked_features_list, rfranking_list)\n",
    " \n",
    "plt.xlabel(\"Features\", fontsize=23)\n",
    "plt.ylabel(\"Magnitude of Importance\", fontsize=23)\n",
    "plt.title(\"Random Forest Feature Importance Ranking\", fontsize= 23)\n",
    "plt.show()"
   ]
  },
  {
   "cell_type": "markdown",
   "id": "37b3e633",
   "metadata": {},
   "source": [
    "# Random Forest Model Predictions for Test set"
   ]
  },
  {
   "cell_type": "code",
   "execution_count": null,
   "id": "75632bea",
   "metadata": {},
   "outputs": [],
   "source": [
    "# Getting all model predicted targets for test set\n",
    "rfpred_targets_df=pd.DataFrame({'Actual Targets':test_targets['Data Traffic (TB)'], 'Model Predicted Targets':rffinal_predictions, \n",
    "                              '% Difference': abs((test_targets['Data Traffic (TB)']-rffinal_predictions)/(test_targets['Data Traffic (TB)'])*100)})\n",
    "rfsample_pred_targets=rfpred_targets_df[7:13]\n",
    "rfsample_pred_targets1=pred_targets_df[1:7]\n",
    "rfsample_pred_targets2=pred_targets_df[13:19]\n",
    "rfsample_pred_targets3=pred_targets_df[19:25]\n",
    "rfsample_pred_targets4=pred_targets_df[25:31]\n",
    "rfsample_pred_targets5=pred_targets_df[31:37]\n",
    "rfsample_pred_targets6=pred_targets_df[37:43]\n",
    "rfsample_pred_targets7=pred_targets_df[43:49]\n",
    "rfsample_pred_targets8=pred_targets_df[49:55]\n",
    "rfsample_pred_targets9=pred_targets_df[55:63]\n",
    "rfpred_targets_df"
   ]
  },
  {
   "cell_type": "code",
   "execution_count": null,
   "id": "1eed8fd1",
   "metadata": {},
   "outputs": [],
   "source": [
    "# Actual vs predicted first set\n",
    "plt.rcParams[\"figure.figsize\"]=(10,6.5)\n",
    "rfsample_pred_targets[['Actual Targets', 'Model Predicted Targets']].plot(marker='o')\n",
    "plt.title('Monthly Mobile Data Traffic vs Local Authority', fontsize=20)\n",
    "plt.xlabel('Local Authority', fontsize=20)\n",
    "plt.ylabel('Monthly Mobile Data Traffic (TB)', fontsize=20)\n",
    "plt.grid(True)\n",
    "plt.show()"
   ]
  },
  {
   "cell_type": "code",
   "execution_count": null,
   "id": "f0ff9a85",
   "metadata": {},
   "outputs": [],
   "source": [
    "# Actual vs predicted second set\n",
    "plt.rcParams[\"figure.figsize\"]=(10,6.5)\n",
    "rfsample_pred_targets1[['Actual Targets', 'Model Predicted Targets']].plot(marker='o')\n",
    "plt.title('Monthly Mobile Data Traffic vs Local Authority', fontsize=20)\n",
    "plt.xlabel('Local Authority', fontsize=20)\n",
    "plt.ylabel('Monthly Mobile Data Traffic (TB)', fontsize=20)\n",
    "plt.grid(True)\n",
    "plt.show()"
   ]
  },
  {
   "cell_type": "code",
   "execution_count": null,
   "id": "969cf8f2",
   "metadata": {},
   "outputs": [],
   "source": [
    "# Actual vs predicted third set\n",
    "plt.rcParams[\"figure.figsize\"]=(10,6.5)\n",
    "rfsample_pred_targets2[['Actual Targets', 'Model Predicted Targets']].plot(marker='o')\n",
    "plt.title('Monthly Mobile Data Traffic vs Local Authority', fontsize=20)\n",
    "plt.xlabel('Local Authority', fontsize=20)\n",
    "plt.ylabel('Monthly Mobile Data Traffic (TB)', fontsize=20)\n",
    "plt.grid(True)\n",
    "plt.show()"
   ]
  },
  {
   "cell_type": "code",
   "execution_count": null,
   "id": "369ae6a5",
   "metadata": {},
   "outputs": [],
   "source": [
    "# Actual vs predicted fourth set\n",
    "plt.rcParams[\"figure.figsize\"]=(10,6.5)\n",
    "rfsample_pred_targets3[['Actual Targets', 'Model Predicted Targets']].plot(marker='o')\n",
    "plt.title('Monthly Mobile Data Traffic vs Local Authority', fontsize=20)\n",
    "plt.xlabel('Local Authority', fontsize=20)\n",
    "plt.ylabel('Monthly Mobile Data Traffic (TB)', fontsize=20)\n",
    "plt.grid(True)\n",
    "plt.show()"
   ]
  }
 ],
 "metadata": {
  "kernelspec": {
   "display_name": "Python 3 (ipykernel)",
   "language": "python",
   "name": "python3"
  },
  "language_info": {
   "codemirror_mode": {
    "name": "ipython",
    "version": 3
   },
   "file_extension": ".py",
   "mimetype": "text/x-python",
   "name": "python",
   "nbconvert_exporter": "python",
   "pygments_lexer": "ipython3",
   "version": "3.9.7"
  }
 },
 "nbformat": 4,
 "nbformat_minor": 5
}
